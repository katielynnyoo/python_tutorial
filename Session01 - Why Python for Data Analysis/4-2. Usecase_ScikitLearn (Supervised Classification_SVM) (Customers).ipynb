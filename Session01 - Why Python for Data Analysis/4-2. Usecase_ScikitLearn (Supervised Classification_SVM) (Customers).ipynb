{
 "cells": [
  {
   "cell_type": "markdown",
   "metadata": {},
   "source": [
    "### 4. Scikit-learn"
   ]
  },
  {
   "cell_type": "markdown",
   "metadata": {},
   "source": [
    "### 4-2. Support Vector Machine"
   ]
  },
  {
   "cell_type": "code",
   "execution_count": 1,
   "metadata": {},
   "outputs": [],
   "source": [
    "# 라이브러리 불러오기\n",
    "from sklearn import svm, metrics\n",
    "from sklearn.model_selection import train_test_split\n",
    "import matplotlib.pyplot as plt\n",
    "import pandas as pd"
   ]
  },
  {
   "cell_type": "code",
   "execution_count": 19,
   "metadata": {},
   "outputs": [
    {
     "name": "stdout",
     "output_type": "stream",
     "text": [
      "   CUSTID  AVERAGEPRICE  EMI  DEVICECOUNT  PRODUCTAGE          CUSTTYPE\n",
      "0  A13566   4273.900000    3          6.4    1.679181  Big-Screen-lover\n",
      "1  A14219   3642.441950    2          4.0    2.682023      Sleeping-dog\n",
      "2  A15312   3653.884565    2          5.0    3.208202      Sleeping-dog\n",
      "3  A16605   3713.211107    2          6.6    0.900000        Early-bird\n",
      "4  B10634   3391.074215    2          4.2    2.453656      Sleeping-dog\n"
     ]
    }
   ],
   "source": [
    "# 데이터 불러오기\n",
    "#  고객데이터 불러오기 --- (※1)\n",
    "tbl = pd.read_csv(\"C:/Users/cj/Python_CJ_Practice/dataset/customerdata.csv\")\n",
    "print(tbl.head())"
   ]
  },
  {
   "cell_type": "code",
   "execution_count": 21,
   "metadata": {},
   "outputs": [
    {
     "name": "stdout",
     "output_type": "stream",
     "text": [
      "   AVERAGEPRICE  EMI  DEVICECOUNT  PRODUCTAGE\n",
      "0   4273.900000    3          6.4    1.679181\n",
      "1   3642.441950    2          4.0    2.682023\n",
      "2   3653.884565    2          5.0    3.208202\n",
      "3   3713.211107    2          6.6    0.900000\n",
      "4   3391.074215    2          4.2    2.453656\n"
     ]
    }
   ],
   "source": [
    "#데이터 값 Feature/Label 분리 및 정규화\n",
    "# 칼럼(열)을 자르고 정규화하기 --- (※2)\n",
    "label = tbl[\"CUSTTYPE\"]\n",
    "avgprice = tbl[\"AVERAGEPRICE\"] \n",
    "emi = tbl[\"EMI\"]\n",
    "devicecount = tbl[\"DEVICECOUNT\"]\n",
    "productage = tbl[\"PRODUCTAGE\"]\n",
    "features = pd.concat([avgprice, emi, devicecount, productage], axis=1)\n",
    "print(features.head())"
   ]
  },
  {
   "cell_type": "code",
   "execution_count": 22,
   "metadata": {},
   "outputs": [
    {
     "name": "stdout",
     "output_type": "stream",
     "text": [
      "150\n",
      "105\n",
      "45\n"
     ]
    }
   ],
   "source": [
    "### 데이터 셋분리(Train, Test)\n",
    "# 학습 전용 데이터와 테스트 전용 데이터로 나누기 --- (※3)\n",
    "data_train, data_test, label_train, label_test = train_test_split(features, label, test_size = 0.3)\n",
    "\n",
    "print(len(features))\n",
    "print(len(data_train))\n",
    "print(len(data_test))"
   ]
  },
  {
   "cell_type": "code",
   "execution_count": 28,
   "metadata": {},
   "outputs": [
    {
     "data": {
      "text/plain": [
       "SVC(C=1.0, cache_size=200, class_weight=None, coef0=0.0,\n",
       "  decision_function_shape='ovr', degree=3, gamma='auto', kernel='rbf',\n",
       "  max_iter=-1, probability=False, random_state=None, shrinking=True,\n",
       "  tol=0.001, verbose=False)"
      ]
     },
     "execution_count": 28,
     "metadata": {},
     "output_type": "execute_result"
    }
   ],
   "source": [
    "# 데이터 학습하기 --- (※4)\n",
    "model = svm.SVC()\n",
    "model.fit(data_train, label_train)"
   ]
  },
  {
   "cell_type": "code",
   "execution_count": 29,
   "metadata": {},
   "outputs": [
    {
     "name": "stdout",
     "output_type": "stream",
     "text": [
      "45\n"
     ]
    },
    {
     "data": {
      "text/html": [
       "<div>\n",
       "<style scoped>\n",
       "    .dataframe tbody tr th:only-of-type {\n",
       "        vertical-align: middle;\n",
       "    }\n",
       "\n",
       "    .dataframe tbody tr th {\n",
       "        vertical-align: top;\n",
       "    }\n",
       "\n",
       "    .dataframe thead th {\n",
       "        text-align: right;\n",
       "    }\n",
       "</style>\n",
       "<table border=\"1\" class=\"dataframe\">\n",
       "  <thead>\n",
       "    <tr style=\"text-align: right;\">\n",
       "      <th></th>\n",
       "      <th>0</th>\n",
       "    </tr>\n",
       "  </thead>\n",
       "  <tbody>\n",
       "    <tr>\n",
       "      <th>0</th>\n",
       "      <td>Early-bird</td>\n",
       "    </tr>\n",
       "    <tr>\n",
       "      <th>1</th>\n",
       "      <td>Big-Screen-lover</td>\n",
       "    </tr>\n",
       "    <tr>\n",
       "      <th>2</th>\n",
       "      <td>Big-Screen-lover</td>\n",
       "    </tr>\n",
       "    <tr>\n",
       "      <th>3</th>\n",
       "      <td>Early-bird</td>\n",
       "    </tr>\n",
       "    <tr>\n",
       "      <th>4</th>\n",
       "      <td>Sleeping-dog</td>\n",
       "    </tr>\n",
       "  </tbody>\n",
       "</table>\n",
       "</div>"
      ],
      "text/plain": [
       "                  0\n",
       "0        Early-bird\n",
       "1  Big-Screen-lover\n",
       "2  Big-Screen-lover\n",
       "3        Early-bird\n",
       "4      Sleeping-dog"
      ]
     },
     "execution_count": 29,
     "metadata": {},
     "output_type": "execute_result"
    }
   ],
   "source": [
    "# 데이터 예측하기 --- (※5)\n",
    "predict = pd.DataFrame(model.predict(data_test))\n",
    "print(predict.size)\n",
    "predict.head()"
   ]
  },
  {
   "cell_type": "code",
   "execution_count": 30,
   "metadata": {},
   "outputs": [
    {
     "name": "stdout",
     "output_type": "stream",
     "text": [
      "45\n",
      "   AVERAGEPRICE  EMI  DEVICECOUNT  PRODUCTAGE          CUSTTYPE  \\\n",
      "0   3928.432035    2          4.4    2.845483      Sleeping-dog   \n",
      "1   3246.000000    1          5.0    1.891624  Big-Screen-lover   \n",
      "2   3462.400000    2          5.5    1.667115  Big-Screen-lover   \n",
      "3   3687.228512    2          6.6    1.300000        Early-bird   \n",
      "4   3418.048887    2          4.2    2.771469      Sleeping-dog   \n",
      "\n",
      "                  0  \n",
      "0        Early-bird  \n",
      "1  Big-Screen-lover  \n",
      "2  Big-Screen-lover  \n",
      "3        Early-bird  \n",
      "4      Sleeping-dog  \n"
     ]
    }
   ],
   "source": [
    "r = pd.concat([data_test.reset_index(drop=True), label_test.reset_index(drop=True), predict.reset_index(drop=True)], axis = 1)\n",
    "r.to_csv(\"d:/result_customerdata.csv\")\n",
    "print(len(r))\n",
    "print(r.head())"
   ]
  },
  {
   "cell_type": "code",
   "execution_count": 31,
   "metadata": {},
   "outputs": [
    {
     "name": "stdout",
     "output_type": "stream",
     "text": [
      "정답률 = 0.4888888888888889\n",
      "리포트 =\n",
      "                   precision    recall  f1-score   support\n",
      "\n",
      "Big-Screen-lover       1.00      0.56      0.72        16\n",
      "      Early-bird       0.34      1.00      0.51        11\n",
      "    Sleeping-dog       0.50      0.11      0.18        18\n",
      "\n",
      "     avg / total       0.64      0.49      0.45        45\n",
      "\n"
     ]
    }
   ],
   "source": [
    "# 결과 테스트하기 --- (※6)\n",
    "ac_score = metrics.accuracy_score(label_test, predict)\n",
    "cl_report = metrics.classification_report(label_test, predict)\n",
    "\n",
    "print(\"정답률 =\", ac_score)\n",
    "print(\"리포트 =\\n\", cl_report)"
   ]
  },
  {
   "cell_type": "code",
   "execution_count": 32,
   "metadata": {},
   "outputs": [
    {
     "data": {
      "text/plain": [
       "'                  precision    recall  f1-score   support\\n\\nBig-Screen-lover       1.00      0.56      0.72        16\\n      Early-bird       0.34      1.00      0.51        11\\n    Sleeping-dog       0.50      0.11      0.18        18\\n\\n     avg / total       0.64      0.49      0.45        45\\n'"
      ]
     },
     "execution_count": 32,
     "metadata": {},
     "output_type": "execute_result"
    }
   ],
   "source": [
    "cl_report"
   ]
  },
  {
   "cell_type": "markdown",
   "metadata": {},
   "source": [
    "# 실습 customer.csv 파일을 활용하여 예측 및 결과리포트를 작성하세요"
   ]
  }
 ],
 "metadata": {
  "kernelspec": {
   "display_name": "Python 3",
   "language": "python",
   "name": "python3"
  },
  "language_info": {
   "codemirror_mode": {
    "name": "ipython",
    "version": 3
   },
   "file_extension": ".py",
   "mimetype": "text/x-python",
   "name": "python",
   "nbconvert_exporter": "python",
   "pygments_lexer": "ipython3",
   "version": "3.6.4"
  }
 },
 "nbformat": 4,
 "nbformat_minor": 2
}
