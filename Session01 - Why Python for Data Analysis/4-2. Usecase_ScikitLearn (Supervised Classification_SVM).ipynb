{
 "cells": [
  {
   "cell_type": "markdown",
   "metadata": {},
   "source": [
    "### 4. Scikit-learn"
   ]
  },
  {
   "cell_type": "markdown",
   "metadata": {},
   "source": [
    "### 4-2. Support Vector Machine"
   ]
  },
  {
   "cell_type": "code",
   "execution_count": 5,
   "metadata": {},
   "outputs": [],
   "source": [
    "# 라이브러리 불러오기\n",
    "from sklearn import svm, metrics\n",
    "from sklearn.model_selection import train_test_split\n",
    "import matplotlib.pyplot as plt\n",
    "import pandas as pd"
   ]
  },
  {
   "cell_type": "code",
   "execution_count": 6,
   "metadata": {},
   "outputs": [
    {
     "name": "stdout",
     "output_type": "stream",
     "text": [
      "   height  weight   label\n",
      "0     140      45  normal\n",
      "1     145      72     fat\n",
      "2     150      61     fat\n",
      "3     137      56     fat\n",
      "4     192      48    thin\n"
     ]
    }
   ],
   "source": [
    "# 데이터 불러오기\n",
    "#  고객데이터 불러오기 --- (※1)\n",
    "tbl = pd.read_csv(\"../dataset/bmi.csv\")\n",
    "print(tbl.head())"
   ]
  },
  {
   "cell_type": "code",
   "execution_count": 7,
   "metadata": {},
   "outputs": [
    {
     "name": "stdout",
     "output_type": "stream",
     "text": [
      "   height  weight\n",
      "0   0.700    0.45\n",
      "1   0.725    0.72\n",
      "2   0.750    0.61\n",
      "3   0.685    0.56\n",
      "4   0.960    0.48\n"
     ]
    }
   ],
   "source": [
    "#데이터 값 Feature/Label 분리 및 정규화\n",
    "# 칼럼(열)을 자르고 정규화하기 --- (※2)\n",
    "label = tbl[\"label\"]\n",
    "height = tbl[\"height\"] / 200 \n",
    "weight = tbl[\"weight\"] / 100\n",
    "features = pd.concat([height, weight], axis=1)\n",
    "print(features.head())"
   ]
  },
  {
   "cell_type": "code",
   "execution_count": 9,
   "metadata": {},
   "outputs": [
    {
     "name": "stdout",
     "output_type": "stream",
     "text": [
      "20000\n",
      "14000\n",
      "6000\n"
     ]
    }
   ],
   "source": [
    "### 데이터 셋분리(Train, Test)\n",
    "# 학습 전용 데이터와 테스트 전용 데이터로 나누기 --- (※3)\n",
    "data_train, data_test, label_train, label_test = train_test_split(features, label, test_size = 0.3)\n",
    "\n",
    "print(len(features))\n",
    "print(len(data_train))\n",
    "print(len(data_test))"
   ]
  },
  {
   "cell_type": "code",
   "execution_count": 18,
   "metadata": {},
   "outputs": [
    {
     "data": {
      "text/plain": [
       "SVC(C=1.0, cache_size=200, class_weight=None, coef0=0.0,\n",
       "  decision_function_shape='ovr', degree=3, gamma='auto', kernel='rbf',\n",
       "  max_iter=-1, probability=False, random_state=None, shrinking=True,\n",
       "  tol=0.001, verbose=False)"
      ]
     },
     "execution_count": 18,
     "metadata": {},
     "output_type": "execute_result"
    }
   ],
   "source": [
    "# 데이터 학습하기 --- (※4)\n",
    "model = svm.SVC()\n",
    "model.fit(data_train, label_train)"
   ]
  },
  {
   "cell_type": "code",
   "execution_count": 28,
   "metadata": {},
   "outputs": [
    {
     "name": "stdout",
     "output_type": "stream",
     "text": [
      "6000\n"
     ]
    },
    {
     "data": {
      "text/html": [
       "<div>\n",
       "<style scoped>\n",
       "    .dataframe tbody tr th:only-of-type {\n",
       "        vertical-align: middle;\n",
       "    }\n",
       "\n",
       "    .dataframe tbody tr th {\n",
       "        vertical-align: top;\n",
       "    }\n",
       "\n",
       "    .dataframe thead th {\n",
       "        text-align: right;\n",
       "    }\n",
       "</style>\n",
       "<table border=\"1\" class=\"dataframe\">\n",
       "  <thead>\n",
       "    <tr style=\"text-align: right;\">\n",
       "      <th></th>\n",
       "      <th>0</th>\n",
       "    </tr>\n",
       "  </thead>\n",
       "  <tbody>\n",
       "    <tr>\n",
       "      <th>0</th>\n",
       "      <td>normal</td>\n",
       "    </tr>\n",
       "    <tr>\n",
       "      <th>1</th>\n",
       "      <td>normal</td>\n",
       "    </tr>\n",
       "    <tr>\n",
       "      <th>2</th>\n",
       "      <td>fat</td>\n",
       "    </tr>\n",
       "    <tr>\n",
       "      <th>3</th>\n",
       "      <td>fat</td>\n",
       "    </tr>\n",
       "    <tr>\n",
       "      <th>4</th>\n",
       "      <td>fat</td>\n",
       "    </tr>\n",
       "  </tbody>\n",
       "</table>\n",
       "</div>"
      ],
      "text/plain": [
       "        0\n",
       "0  normal\n",
       "1  normal\n",
       "2     fat\n",
       "3     fat\n",
       "4     fat"
      ]
     },
     "execution_count": 28,
     "metadata": {},
     "output_type": "execute_result"
    }
   ],
   "source": [
    "# 데이터 예측하기 --- (※5)\n",
    "predict = pd.DataFrame(model.predict(data_test))\n",
    "print(predict.size)\n",
    "predict.head()"
   ]
  },
  {
   "cell_type": "code",
   "execution_count": 32,
   "metadata": {},
   "outputs": [
    {
     "name": "stdout",
     "output_type": "stream",
     "text": [
      "6000\n",
      "   height  weight   label       0\n",
      "0   0.630    0.35  normal  normal\n",
      "1   0.745    0.52  normal  normal\n",
      "2   0.735    0.62     fat     fat\n",
      "3   0.690    0.79     fat     fat\n",
      "4   0.775    0.78     fat     fat\n"
     ]
    }
   ],
   "source": [
    "r = pd.concat([data_test.reset_index(drop=True), label_test.reset_index(drop=True), predict.reset_index(drop=True)], axis = 1)\n",
    "r.to_csv(\"d:/result_bmi.csv\")\n",
    "print(len(r))\n",
    "print(r.head())"
   ]
  },
  {
   "cell_type": "code",
   "execution_count": 33,
   "metadata": {},
   "outputs": [
    {
     "name": "stdout",
     "output_type": "stream",
     "text": [
      "정답률 = 0.9871666666666666\n",
      "리포트 =\n",
      "              precision    recall  f1-score   support\n",
      "\n",
      "        fat       1.00      0.99      1.00      2292\n",
      "     normal       0.97      0.99      0.98      1814\n",
      "       thin       0.99      0.98      0.99      1894\n",
      "\n",
      "avg / total       0.99      0.99      0.99      6000\n",
      "\n"
     ]
    }
   ],
   "source": [
    "# 결과 테스트하기 --- (※6)\n",
    "ac_score = metrics.accuracy_score(label_test, predict)\n",
    "cl_report = metrics.classification_report(label_test, predict)\n",
    "\n",
    "print(\"정답률 =\", ac_score)\n",
    "print(\"리포트 =\\n\", cl_report)"
   ]
  },
  {
   "cell_type": "code",
   "execution_count": 34,
   "metadata": {},
   "outputs": [
    {
     "data": {
      "text/plain": [
       "'             precision    recall  f1-score   support\\n\\n        fat       1.00      0.99      1.00      2292\\n     normal       0.97      0.99      0.98      1814\\n       thin       0.99      0.98      0.99      1894\\n\\navg / total       0.99      0.99      0.99      6000\\n'"
      ]
     },
     "execution_count": 34,
     "metadata": {},
     "output_type": "execute_result"
    }
   ],
   "source": [
    "cl_report"
   ]
  },
  {
   "cell_type": "markdown",
   "metadata": {},
   "source": [
    "# 실습 customer.csv 파일을 활용하여 예측 및 결과리포트를 작성하세요"
   ]
  }
 ],
 "metadata": {
  "kernelspec": {
   "display_name": "Python 3",
   "language": "python",
   "name": "python3"
  },
  "language_info": {
   "codemirror_mode": {
    "name": "ipython",
    "version": 3
   },
   "file_extension": ".py",
   "mimetype": "text/x-python",
   "name": "python",
   "nbconvert_exporter": "python",
   "pygments_lexer": "ipython3",
   "version": "3.6.4"
  }
 },
 "nbformat": 4,
 "nbformat_minor": 2
}
